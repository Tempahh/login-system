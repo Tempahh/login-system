{
  "nbformat": 4,
  "nbformat_minor": 0,
  "metadata": {
    "colab": {
      "provenance": [],
      "authorship_tag": "ABX9TyN3FsCkyzZqmup9rDb7SnFp",
      "include_colab_link": true
    },
    "kernelspec": {
      "name": "python3",
      "display_name": "Python 3"
    },
    "language_info": {
      "name": "python"
    }
  },
  "cells": [
    {
      "cell_type": "markdown",
      "metadata": {
        "id": "view-in-github",
        "colab_type": "text"
      },
      "source": [
        "<a href=\"https://colab.research.google.com/github/Tempahh/login-system/blob/main/loginsystem.ipynb\" target=\"_parent\"><img src=\"https://colab.research.google.com/assets/colab-badge.svg\" alt=\"Open In Colab\"/></a>"
      ]
    },
    {
      "cell_type": "code",
      "execution_count": 5,
      "metadata": {
        "id": "KHeMeee19CHh"
      },
      "outputs": [],
      "source": [
        "import sqlite3\n",
        "\n",
        "conn = sqlite3.connect('users.db')\n",
        "c = conn.cursor()\n",
        "\n",
        "# Create a table to store user information\n",
        "c.execute('''CREATE TABLE users\n",
        "             (username TEXT, password TEXT)''')\n",
        "\n",
        "# Insert some dummy data into the database\n",
        "c.execute(\"INSERT INTO users VALUES ('user1', 'password1')\")\n",
        "c.execute(\"INSERT INTO users VALUES ('user2', 'password2')\")\n",
        "\n",
        "conn.commit()\n",
        "conn.close()\n"
      ]
    },
    {
      "cell_type": "code",
      "source": [
        "import hashlib\n",
        "\n",
        "def authenticate(username, password):\n",
        "    conn = sqlite3.connect('users.db')\n",
        "    c = conn.cursor()\n",
        "\n",
        "    # Check if the username and password match the data in the database\n",
        "    c.execute(\"SELECT password FROM users WHERE username = ?\", (username,))\n",
        "    db_password = c.fetchone()\n",
        "\n",
        "    # If the user is found in the database, check the password\n",
        "    if db_password is not None and hashlib.sha256(password.encode('utf-8')).hexdigest() == db_password[0]:\n",
        "        conn.close()\n",
        "        return True\n",
        "\n",
        "    conn.close()\n",
        "    return False\n"
      ],
      "metadata": {
        "id": "9Lct6YFmDQfA"
      },
      "execution_count": 6,
      "outputs": []
    },
    {
      "cell_type": "code",
      "source": [
        "username = input(\"Username: \")\n",
        "password = input(\"Password: \")\n",
        "\n",
        "if authenticate(username, password):\n",
        "    print(\"Login successful\")\n",
        "else:\n",
        "    print(\"Login failed\")\n"
      ],
      "metadata": {
        "id": "WbjrMXJwDZfS"
      },
      "execution_count": null,
      "outputs": []
    }
  ]
}